{
 "cells": [
  {
   "cell_type": "code",
   "execution_count": 1,
   "metadata": {
    "collapsed": true,
    "run_control": {
     "frozen": false,
     "read_only": false
    }
   },
   "outputs": [],
   "source": [
    "import sys\n",
    "import io\n",
    "import json\n",
    "import logging\n",
    "import pep8\n"
   ]
  },
  {
   "cell_type": "code",
   "execution_count": 2,
   "metadata": {
    "collapsed": false,
    "run_control": {
     "frozen": false,
     "read_only": false
    }
   },
   "outputs": [],
   "source": [
    "def load_code_from_ipynb(filename):\n",
    "    with open(filename, 'r') as f:\n",
    "        data = json.load(f)\n",
    "    codes = dict([(x['execution_count'], x['source']) for x in data['cells']\n",
    "                  if x['cell_type'] == 'code' and x['execution_count']])\n",
    "    return codes\n"
   ]
  },
  {
   "cell_type": "code",
   "execution_count": 3,
   "metadata": {
    "collapsed": false,
    "run_control": {
     "frozen": false,
     "read_only": false
    }
   },
   "outputs": [],
   "source": [
    "def _check_pep8_from_file(filename):\n",
    "    codes = load_code_from_ipynb(filename)\n",
    "    return [(i, check_pep8_from_lines(codes[i])) for i in codes]\n"
   ]
  },
  {
   "cell_type": "code",
   "execution_count": 4,
   "metadata": {
    "collapsed": false
   },
   "outputs": [],
   "source": [
    "def check_pep8_from_file(filename):\n",
    "    for result in _check_pep8_from_file(filename):\n",
    "        num, msg = result\n",
    "        print('In [{}]: '.format(num))\n",
    "        for x in msg:\n",
    "            print(x)\n"
   ]
  },
  {
   "cell_type": "code",
   "execution_count": 5,
   "metadata": {
    "collapsed": true
   },
   "outputs": [],
   "source": [
    "def check_pep8_from_lines(lines):\n",
    "    logger = logging.getLogger('pep8')\n",
    "    logger.setLevel(logging.INFO)\n",
    "    # output is written to stdout\n",
    "    # remember and replace\n",
    "    old_stdout = sys.stdout\n",
    "    old_stdout = sys.stdout\n",
    "    sys.stdout = io.StringIO()\n",
    "    pep8.Checker(lines=lines).check_all()\n",
    "    stdout = sys.stdout.getvalue().splitlines()\n",
    "    # restore\n",
    "    sys.stdout = old_stdout\n",
    "    return stdout\n"
   ]
  },
  {
   "cell_type": "code",
   "execution_count": 6,
   "metadata": {
    "collapsed": false
   },
   "outputs": [],
   "source": [
    "def bad_func():\n",
    "    a=1+1\n",
    "    b = ( 2, 3 )\n",
    "    return\n"
   ]
  },
  {
   "cell_type": "code",
   "execution_count": 7,
   "metadata": {
    "collapsed": true
   },
   "outputs": [],
   "source": [
    "class bad_class:\n",
    "    def f1():\n",
    "        pass\n",
    "    def f2():\n",
    "        pass\n"
   ]
  },
  {
   "cell_type": "markdown",
   "metadata": {},
   "source": [
    "> http://stackoverflow.com/questions/12544056/how-to-i-get-the-current-ipython-notebook-name"
   ]
  },
  {
   "cell_type": "code",
   "execution_count": 8,
   "metadata": {
    "collapsed": false
   },
   "outputs": [
    {
     "data": {
      "application/javascript": [
       "var kernel = IPython.notebook.kernel;\n",
       "var thename = window.document.getElementById(\"notebook_name\").innerHTML;\n",
       "var command = \"theNotebook = \" + \"'\"+thename+\"'\";\n",
       "kernel.execute(command);"
      ],
      "text/plain": [
       "<IPython.core.display.Javascript object>"
      ]
     },
     "metadata": {},
     "output_type": "display_data"
    }
   ],
   "source": [
    "%%javascript\n",
    "var kernel = IPython.notebook.kernel;\n",
    "var thename = window.document.getElementById(\"notebook_name\").innerHTML;\n",
    "var command = \"theNotebook = \" + \"'\"+thename+\"'\";\n",
    "kernel.execute(command);"
   ]
  },
  {
   "cell_type": "code",
   "execution_count": 9,
   "metadata": {
    "collapsed": false,
    "run_control": {
     "frozen": false,
     "read_only": false
    }
   },
   "outputs": [
    {
     "name": "stdout",
     "output_type": "stream",
     "text": [
      "In [1]: \n",
      "In [2]: \n",
      "In [3]: \n",
      "In [4]: \n",
      "In [5]: \n",
      "In [6]: \n",
      "stdin:2:6: E225 missing whitespace around operator\n",
      "stdin:3:10: E201 whitespace after '('\n",
      "stdin:3:15: E202 whitespace before ')'\n",
      "In [7]: \n",
      "stdin:4:5: E301 expected 1 blank line, found 0\n",
      "In [8]: \n",
      "stdin:1:2: E228 missing whitespace around modulo operator\n",
      "stdin:2:37: E703 statement ends with a semicolon\n",
      "stdin:3:72: E703 statement ends with a semicolon\n",
      "stdin:4:49: E703 statement ends with a semicolon\n",
      "stdin:5:24: E703 statement ends with a semicolon\n",
      "stdin:5:25: W292 no newline at end of file\n"
     ]
    }
   ],
   "source": [
    "check_pep8_from_file(''.join((theNotebook, '.ipynb')))\n"
   ]
  },
  {
   "cell_type": "code",
   "execution_count": null,
   "metadata": {
    "collapsed": true
   },
   "outputs": [],
   "source": []
  }
 ],
 "metadata": {
  "kernelspec": {
   "display_name": "Python 3",
   "language": "python",
   "name": "python3"
  },
  "language_info": {
   "codemirror_mode": {
    "name": "ipython",
    "version": 3
   },
   "file_extension": ".py",
   "mimetype": "text/x-python",
   "name": "python",
   "nbconvert_exporter": "python",
   "pygments_lexer": "ipython3",
   "version": "3.5.2"
  }
 },
 "nbformat": 4,
 "nbformat_minor": 1
}
